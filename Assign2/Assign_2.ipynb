{
  "nbformat": 4,
  "nbformat_minor": 0,
  "metadata": {
    "colab": {
      "name": "Assign_2.ipynb",
      "provenance": [],
      "collapsed_sections": [],
      "include_colab_link": true
    },
    "kernelspec": {
      "name": "python3",
      "display_name": "Python 3"
    },
    "accelerator": "GPU"
  },
  "cells": [
    {
      "cell_type": "markdown",
      "metadata": {
        "id": "view-in-github",
        "colab_type": "text"
      },
      "source": [
        "<a href=\"https://colab.research.google.com/github/maurya-anuj/Eip4/blob/master/Assign2/Assign_2.ipynb\" target=\"_parent\"><img src=\"https://colab.research.google.com/assets/colab-badge.svg\" alt=\"Open In Colab\"/></a>"
      ]
    },
    {
      "cell_type": "code",
      "metadata": {
        "id": "vrEp6fQR56Aq",
        "colab_type": "code",
        "colab": {}
      },
      "source": [
        "!rm -r '/content/gdrive/My Drive/EIP4_assign2/batch_drop25(10,20,30|10|10,15,30)'\n"
      ],
      "execution_count": 0,
      "outputs": []
    },
    {
      "cell_type": "code",
      "metadata": {
        "id": "HFbAFGsZrKH6",
        "colab_type": "code",
        "outputId": "43c18b9d-e2b9-4250-cd62-466fe155bb92",
        "colab": {
          "base_uri": "https://localhost:8080/",
          "height": 122
        }
      },
      "source": [
        "from google.colab import drive\n",
        "drive.mount('/content/gdrive', force_remount=True)\n",
        "root_dir = \"/content/gdrive/My Drive/\"\n",
        "base_dir = root_dir + 'EIP4_assign2/'\n"
      ],
      "execution_count": 0,
      "outputs": [
        {
          "output_type": "stream",
          "text": [
            "Go to this URL in a browser: https://accounts.google.com/o/oauth2/auth?client_id=947318989803-6bn6qk8qdgf4n4g3pfee6491hc0brc4i.apps.googleusercontent.com&redirect_uri=urn%3aietf%3awg%3aoauth%3a2.0%3aoob&response_type=code&scope=email%20https%3a%2f%2fwww.googleapis.com%2fauth%2fdocs.test%20https%3a%2f%2fwww.googleapis.com%2fauth%2fdrive%20https%3a%2f%2fwww.googleapis.com%2fauth%2fdrive.photos.readonly%20https%3a%2f%2fwww.googleapis.com%2fauth%2fpeopleapi.readonly\n",
            "\n",
            "Enter your authorization code:\n",
            "··········\n",
            "Mounted at /content/gdrive\n"
          ],
          "name": "stdout"
        }
      ]
    },
    {
      "cell_type": "code",
      "metadata": {
        "id": "As4ATu3pPkcI",
        "colab_type": "code",
        "outputId": "e0a69186-e42b-45d4-d97b-770ff52a63e3",
        "colab": {
          "base_uri": "https://localhost:8080/",
          "height": 85
        }
      },
      "source": [
        "from google.colab import files\n",
        "!zip -r '/content/batch_drop25(10,15,30|10|15,30).zip' '/content/batch_drop25(10,30|10|20,30)'\n",
        "files.download(\"/content/batch_drop25(10,30|10|20,30).zip\")"
      ],
      "execution_count": 0,
      "outputs": [
        {
          "output_type": "stream",
          "text": [
            "  adding: content/batch_drop25(10,30|10|20,30)/ (stored 0%)\n",
            "  adding: content/batch_drop25(10,30|10|20,30)/batch_drop25(10,30|10|20,30).txt (deflated 83%)\n",
            "  adding: content/batch_drop25(10,30|10|20,30)/batch_drop25(10,30|10|20,30).json (deflated 91%)\n",
            "  adding: content/batch_drop25(10,30|10|20,30)/batch_drop25(10,30|10|20,30).h5 (deflated 44%)\n"
          ],
          "name": "stdout"
        }
      ]
    },
    {
      "cell_type": "code",
      "metadata": {
        "id": "EZ0M8oYv5CfX",
        "colab_type": "code",
        "outputId": "d2051049-44c2-4a03-aeda-4cc063d9f377",
        "colab": {
          "base_uri": "https://localhost:8080/",
          "height": 258
        }
      },
      "source": [
        "from keras.models import Sequential\n",
        "from keras.layers import Convolution2D, MaxPooling2D, BatchNormalization\n",
        "from keras.layers import Flatten, Dropout\n",
        "from keras.layers import Activation\n",
        "from contextlib import redirect_stdout\n",
        "import os\n",
        "\n",
        "\n",
        "model_name = \"batch_drop25(10,30|10|10,15,40)\"\n",
        "path = base_dir\n",
        "print(\"The current working directory is %s\" % path)\n",
        "\n",
        "directory = os.path.join(path, model_name)\n",
        "Parameter_file = os.path.join(directory, model_name+'.txt')\n",
        "json_file = os.path.join(directory, model_name+'.json')\n",
        "\n",
        "# create directory if not exist\n",
        "if not os.path.exists(directory):\n",
        "    print(\"\\n\\n\\n .... \\n\\n\")\n",
        "    os.makedirs(directory)\n",
        "\n",
        "\n",
        "# Print Model to text file\n",
        "def myprint(s):\n",
        "    with open(Parameter_file, 'w') as f:\n",
        "        with redirect_stdout(f):\n",
        "            model.summary()\n",
        "\n",
        "\n",
        "model = Sequential()\n",
        "\n",
        "model.add(Convolution2D(10, 3, 3, activation='relu', input_shape=(28,28,1), use_bias=False))  # 26\n",
        "model.add(BatchNormalization())\n",
        "# model.add(Convolution2D(15, 3, 3, activation='relu', use_bias=False))  # 24\n",
        "# model.add(BatchNormalization())\n",
        "model.add(Convolution2D(30, 3, 3, activation='relu', use_bias=False))  # 24\n",
        "model.add(BatchNormalization())\n",
        "\n",
        "model.add(Dropout(0.25))\n",
        "\n",
        "model.add(MaxPooling2D(2, 2))  # 12\n",
        "model.add(Convolution2D(10, 1, activation='relu', use_bias=False))  # 12\n",
        "model.add(BatchNormalization())\n",
        "\n",
        "model.add(Convolution2D(10, 3, 3, activation='relu', use_bias=False))  # 10\n",
        "model.add(BatchNormalization())\n",
        "model.add(Convolution2D(15, 3, 3, activation='relu', use_bias=False))  # 8\n",
        "model.add(BatchNormalization())\n",
        "model.add(Convolution2D(40, 3, 3, activation='relu', use_bias=False))  # 6\n",
        "model.add(BatchNormalization())\n",
        "\n",
        "model.add(Dropout(0.25))\n",
        "\n",
        "model.add(Convolution2D(10, 1, use_bias=False))\n",
        "model.add(BatchNormalization())\n",
        "model.add(Convolution2D(10, 6, use_bias=False))\n",
        "model.add(Flatten())\n",
        "model.add(Activation('softmax'))\n",
        "\n",
        "# Save mode to json file\n",
        "model_json = model.to_json()\n",
        "with open(json_file, 'w') as json_file:\n",
        "    json_file.write(model_json)\n",
        "\n",
        "\n",
        "model.summary(print_fn=myprint)\n",
        "\n",
        "\n",
        "'''\n",
        "10,30|10|15,30\n",
        "10,15,30|10|15,30 *\n",
        "10,10,30|10|10,30\n",
        "10,10,30|10|10,15,30\n",
        "10,15,30|10|10,15,30\n",
        "10,30|10|10,10,15,30\n",
        "10,30|10|10,10,15,40 dosen't look good loss not getting reduced \n",
        "10,30|10|10,15,30 best for now\n",
        "10,30|10|10,20,30\n",
        "\n",
        "'''\n"
      ],
      "execution_count": 0,
      "outputs": [
        {
          "output_type": "stream",
          "text": [
            "The current working directory is /content/gdrive/My Drive/EIP4_assign2/\n",
            "\n",
            "\n",
            "\n",
            " .... \n",
            "\n",
            "\n"
          ],
          "name": "stdout"
        },
        {
          "output_type": "stream",
          "text": [
            "/usr/local/lib/python3.6/dist-packages/ipykernel_launcher.py:32: UserWarning: Update your `Conv2D` call to the Keras 2 API: `Conv2D(10, (3, 3), activation=\"relu\", input_shape=(28, 28, 1..., use_bias=False)`\n",
            "/usr/local/lib/python3.6/dist-packages/ipykernel_launcher.py:36: UserWarning: Update your `Conv2D` call to the Keras 2 API: `Conv2D(30, (3, 3), activation=\"relu\", use_bias=False)`\n",
            "/usr/local/lib/python3.6/dist-packages/ipykernel_launcher.py:45: UserWarning: Update your `Conv2D` call to the Keras 2 API: `Conv2D(10, (3, 3), activation=\"relu\", use_bias=False)`\n",
            "/usr/local/lib/python3.6/dist-packages/ipykernel_launcher.py:47: UserWarning: Update your `Conv2D` call to the Keras 2 API: `Conv2D(15, (3, 3), activation=\"relu\", use_bias=False)`\n",
            "/usr/local/lib/python3.6/dist-packages/ipykernel_launcher.py:49: UserWarning: Update your `Conv2D` call to the Keras 2 API: `Conv2D(40, (3, 3), activation=\"relu\", use_bias=False)`\n"
          ],
          "name": "stderr"
        },
        {
          "output_type": "execute_result",
          "data": {
            "text/plain": [
              "\"\\n10,30|10|15,30\\n10,15,30|10|15,30 *\\n10,10,30|10|10,30\\n10,10,30|10|10,15,30\\n10,15,30|10|10,15,30\\n10,30|10|10,10,15,30\\n10,30|10|10,10,15,40 dosen't look good loss not getting reduced \\n10,30|10|10,15,30 best for now\\n10,30|10|10,20,30\\n\\n\""
            ]
          },
          "metadata": {
            "tags": []
          },
          "execution_count": 15
        }
      ]
    },
    {
      "cell_type": "code",
      "metadata": {
        "id": "oCh2JNGvla6q",
        "colab_type": "code",
        "outputId": "f150a0d1-9b95-4383-fa54-49a7f489e4a2",
        "colab": {
          "base_uri": "https://localhost:8080/",
          "height": 727
        }
      },
      "source": [
        "# -*- coding: utf-8 -*-\n",
        "\"\"\"Copy of 1st DNN.ipynb\n",
        "\n",
        "Automatically generated by Colaboratory.\n",
        "\n",
        "Original file is located at\n",
        "    https://colab.research.google.com/drive/1xRI9PI5w4HcK5yBhquGE0RUtogqm2ay9\n",
        "\n",
        "# **Import Libraries and modules**\n",
        "\"\"\"\n",
        "\n",
        "# https://keras.io/\n",
        "# !pip install -q keras\n",
        "import keras\n",
        "\n",
        "import numpy as np\n",
        "\n",
        "from keras.models import Sequential\n",
        "from keras.layers import Dense, Dropout, Activation, Flatten, Add\n",
        "from keras.layers import Convolution2D, MaxPooling2D\n",
        "from keras.utils import np_utils\n",
        "from keras.models import model_from_json\n",
        "import os\n",
        "\n",
        "import sys\n",
        "\n",
        "from keras.datasets import mnist\n",
        "\n",
        "\"\"\"### Load pre-shuffled MNIST data into train and test sets\"\"\"\n",
        "\n",
        "(X_train, y_train), (X_test, y_test) = mnist.load_data()\n",
        "\n",
        "# Commented out IPython magic to ensure Python compatibility.\n",
        "print(X_train.shape)\n",
        "from matplotlib import pyplot as plt\n",
        "# %matplotlib inline\n",
        "plt.imshow(X_train[120])\n",
        "\n",
        "X_train = X_train.reshape(X_train.shape[0], 28, 28,1)\n",
        "X_test = X_test.reshape(X_test.shape[0], 28, 28,1)\n",
        "print(X_train.shape)\n",
        "print(X_test.shape)\n",
        "\n",
        "X_train = X_train.astype('float32')\n",
        "X_test = X_test.astype('float32')\n",
        "X_train /= 255\n",
        "X_test /= 255\n",
        "\n",
        "#y_train[:10]\n",
        "\n",
        "# Convert 1-dimensional class arrays to 10-dimensional class matrices\n",
        "Y_train = np_utils.to_categorical(y_train, 10)\n",
        "Y_test = np_utils.to_categorical(y_test, 10)\n",
        "\n",
        "#Y_train[4:10]\n",
        "\n",
        "# from keras.layers import Activation\n",
        "# model = Sequential()\n",
        "#\n",
        "#\n",
        "# model.add(Convolution2D(60, 3, 3, activation='relu', input_shape=(28,28,1)))\n",
        "# model.add(Convolution2D(30, 3, 3, activation='relu'))\n",
        "# #model.add(Convolution2D(128, 3, 3, activation='relu'))\n",
        "# model.add(MaxPooling2D(2, 2))\n",
        "# model.add(Convolution2D(60, 3, 3, activation='relu'))\n",
        "# model.add(Convolution2D(100, 3, 3, activation='relu'))\n",
        "# #model.add(Convolution2D(10, 1, activation='relu'))\n",
        "# model.add(Convolution2D(10, 1))\n",
        "# model.add(Convolution2D(10, 8))\n",
        "# model.add(Flatten())\n",
        "# model.add(Activation('softmax'))\n",
        "\n",
        "from keras.optimizers import Adam\n",
        "from keras.callbacks import LearningRateScheduler\n",
        "def scheduler(epoch, lr):\n",
        "    return round(0.003 * 1/(1 + 0.319 * epoch), 10)\n",
        "\n",
        "batches = [64,128,256]\n",
        "model_json = \"\"\n",
        "directory = \"/content/gdrive/My Drive/EIP4_assign2/\"\n",
        "for file in os.listdir(directory):\n",
        "    print(file)\n",
        "    if file[0] != '.' and not os.path.isfile(directory+file+\"/\"+file+\".h5\"):\n",
        "        print(\"Inside Dir %s\"%file)\n",
        "        for f in os.listdir(os.path.join(directory, file)):\n",
        "            if f.endswith(\".json\"):\n",
        "                json_path = os.path.join(directory, file, f)\n",
        "                with open(json_path, 'r') as json_file:\n",
        "                    model_json = json_file.read()\n",
        "                model = model_from_json(model_json)\n",
        "\n",
        "                # # open log file\n",
        "                # oldStdout = sys.stdout\n",
        "                # file_out = open(os.path.join(directory, file, file+'.txt'), 'a')\n",
        "                # sys.stdout = file_out\n",
        "\n",
        "                # model.compile(loss='categorical_crossentropy',\n",
        "                #               optimizer='adam',\n",
        "                #               metrics=['accuracy'])\n",
        "                # model.fit(X_train, Y_train, batch_size=30, nb_epoch=25, validation_data=(X_test, Y_test),  verbose=2)\n",
        "                # sys.stdout = oldStdout\n",
        "\n",
        "                # # serialize weights to HDF5\n",
        "                # model.save_weights(os.path.join(directory, file, file+\".h5\"))\n",
        "                # print(\"Saved model to disk\")\n",
        "\n",
        "\n",
        "                for batch in batches:\n",
        "                    \n",
        "                    ### again with adam(lr)     \n",
        "                    print(\"Again with lr\")           \n",
        "                    model = model_from_json(model_json)\n",
        "\n",
        "                    # open log file\n",
        "                    oldStdout = sys.stdout\n",
        "                    file_out = open(os.path.join(directory, file, file+'.txt'), 'a')\n",
        "                    sys.stdout = file_out\n",
        "                    print(\"\\n batch size = %s \\n\"%str(batch))\n",
        "\n",
        "                    model.compile(loss='categorical_crossentropy',\n",
        "                                  optimizer=Adam(lr=0.003),\n",
        "                                  metrics=['accuracy'])\n",
        "                    model.fit(X_train, Y_train, batch_size=batch, nb_epoch=25, validation_data=(X_test, Y_test), callbacks=[LearningRateScheduler(scheduler, verbose=1)],  verbose=2)\n",
        "                    sys.stdout = oldStdout\n",
        "\n",
        "                    # serialize weights to HDF5\n",
        "                    model.save_weights(os.path.join(directory, file, file+\"_\"+str(batch)+\"_lr.h5\"))\n",
        "                    print(\"Saved model to disk\")\n",
        "\n",
        "\n",
        "\n",
        "'''\n",
        "def scheduler(epoch, lr):\n",
        "  return round(0.003 * 1/(1 + 0.319 * epoch), 10)\n",
        "\n",
        "model.compile(loss='categorical_crossentropy', optimizer=Adam(lr=0.003), metrics=['accuracy'])\n",
        "\n",
        "model.fit(X_train, Y_train, batch_size=128, epochs=20, verbose=1, validation_data=(X_test, Y_test), callbacks=[LearningRateScheduler(scheduler, verbose=1)])\n",
        "'''"
      ],
      "execution_count": 0,
      "outputs": [
        {
          "output_type": "stream",
          "text": [
            "(60000, 28, 28)\n",
            "(60000, 28, 28, 1)\n",
            "(10000, 28, 28, 1)\n",
            "batch_drop25(10,30|10|15,30)\n",
            "batch_drop25(10,10,30|10|10,30)\n",
            "batch_drop25(10,10,30|10|15,30)\n",
            "batch_drop25(10,10,30|10|10,15,30)\n",
            "batch_drop25(10,15,30|10|10,15,30)\n",
            "batch_drop25(10,30|10|10,10,15,30)\n",
            "batch_drop25(10,30|10|10,10,15,40)\n",
            "batch_drop25(10,30|10|10,30|10|40)\n",
            "batch_drop25(10,30|10|20,30|10|40)\n",
            "batch_drop25(10,30|10|20,30|10|30)\n",
            "batch_drop25(10,30|10|10,15,30)\n",
            "batch_drop25(10,30|10|10,20,30)\n",
            "Inside Dir batch_drop25(10,30|10|10,20,30)\n",
            "Again with lr\n"
          ],
          "name": "stdout"
        },
        {
          "output_type": "stream",
          "text": [
            "/usr/local/lib/python3.6/dist-packages/ipykernel_launcher.py:122: UserWarning: The `nb_epoch` argument in `fit` has been renamed `epochs`.\n"
          ],
          "name": "stderr"
        },
        {
          "output_type": "stream",
          "text": [
            "Saved model to disk\n",
            "Again with lr\n"
          ],
          "name": "stdout"
        },
        {
          "output_type": "stream",
          "text": [
            "/usr/local/lib/python3.6/dist-packages/ipykernel_launcher.py:122: UserWarning: The `nb_epoch` argument in `fit` has been renamed `epochs`.\n"
          ],
          "name": "stderr"
        },
        {
          "output_type": "stream",
          "text": [
            "Saved model to disk\n",
            "Again with lr\n"
          ],
          "name": "stdout"
        },
        {
          "output_type": "stream",
          "text": [
            "/usr/local/lib/python3.6/dist-packages/ipykernel_launcher.py:122: UserWarning: The `nb_epoch` argument in `fit` has been renamed `epochs`.\n"
          ],
          "name": "stderr"
        },
        {
          "output_type": "stream",
          "text": [
            "Saved model to disk\n"
          ],
          "name": "stdout"
        },
        {
          "output_type": "execute_result",
          "data": {
            "text/plain": [
              "\"\\ndef scheduler(epoch, lr):\\n  return round(0.003 * 1/(1 + 0.319 * epoch), 10)\\n\\nmodel.compile(loss='categorical_crossentropy', optimizer=Adam(lr=0.003), metrics=['accuracy'])\\n\\nmodel.fit(X_train, Y_train, batch_size=128, epochs=20, verbose=1, validation_data=(X_test, Y_test), callbacks=[LearningRateScheduler(scheduler, verbose=1)])\\n\""
            ]
          },
          "metadata": {
            "tags": []
          },
          "execution_count": 14
        },
        {
          "output_type": "display_data",
          "data": {
            "image/png": "[encoded data removed]",
            "text/plain": [
              "<Figure size 432x288 with 1 Axes>"
            ]
          },
          "metadata": {
            "tags": []
          }
        }
      ]
    },
    {
      "cell_type": "code",
      "metadata": {
        "id": "KwozBmgOyx-t",
        "colab_type": "code",
        "outputId": "e90267ba-c7d6-4f58-bb3d-d3b9fc5ca58f",
        "colab": {
          "base_uri": "https://localhost:8080/",
          "height": 34
        }
      },
      "source": [
        "os.path.isfile(base_dir+\"batch_drop25(10,30|10|15,30)/batch_drop25(10,30|10|15,30).h5\")"
      ],
      "execution_count": 0,
      "outputs": [
        {
          "output_type": "execute_result",
          "data": {
            "text/plain": [
              "True"
            ]
          },
          "metadata": {
            "tags": []
          },
          "execution_count": 13
        }
      ]
    }
  ]
}